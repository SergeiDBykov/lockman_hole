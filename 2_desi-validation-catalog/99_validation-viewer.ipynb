{
 "cells": [
  {
   "cell_type": "code",
   "execution_count": null,
   "metadata": {},
   "outputs": [],
   "source": [
    "import sys\n",
    "sys.path.append('../')\n",
    "sys.path.append('/Users/sdbykov/work/my_packages/nway')"
   ]
  },
  {
   "cell_type": "code",
   "execution_count": null,
   "metadata": {},
   "outputs": [],
   "source": [
    "from scripts.utils import data_path, set_mpl\n",
    "from scripts.cross_match_scripts import search_around_r_data_frames, cross_match_data_frames\n",
    "import pandas as pd\n",
    "import numpy as np\n",
    "import seaborn as sns\n",
    "import nway_python_api as nway\n",
    "set_mpl()\n",
    "%matplotlib inline"
   ]
  },
  {
   "cell_type": "code",
   "execution_count": null,
   "metadata": {},
   "outputs": [],
   "source": [
    "erosita = pd.read_pickle(data_path+'ERO_lhpv_03_23_sd01_a15_g14.pkl')\n",
    "\n",
    "desi =  pd.read_pickle(data_path+'desi_lh.gz_pkl', compression = 'gzip')\n",
    "desi_matched = cross_match_data_frames(erosita, desi, 'RA_fin', 'DEC_fin', 'ra', 'dec', 30, df_prefix='desi')\n",
    "\n",
    "xmm_matched = pd.read_pickle(data_path+'xmm_cleared.pkl')\n",
    "\n",
    "csc = pd.read_pickle(data_path+'csc_cleared.pkl')\n",
    "csc_matched = cross_match_data_frames(erosita, csc, 'RA_fin', 'DEC_fin', 'ra', 'dec', 30)\n",
    "\n",
    "ctps = pd.read_pickle(data_path+'validation_ctps_ero_desi_lh.pkl')\n",
    "ctps.ID = ctps.ID.str.decode('utf-8')\n",
    "ctps.desi_id_true_ctp = ctps.desi_id_true_ctp.str.decode('utf-8')\n"
   ]
  },
  {
   "cell_type": "code",
   "execution_count": null,
   "metadata": {},
   "outputs": [],
   "source": [
    "ctps"
   ]
  },
  {
   "cell_type": "code",
   "execution_count": null,
   "metadata": {},
   "outputs": [],
   "source": [
    "def plot_target(eroid, savefig = False):\n",
    "\n",
    "    df_query = erosita.query(\"srcname_fin==@eroid\")\n",
    "\n",
    "    ero_ra, ero_dec, ero_err = df_query.iloc[0][['RA_fin', 'DEC_fin', 'pos_r98']]\n",
    "\n",
    "    search_rad = ero_err*1.5\n",
    "    fig, ax = plt.subplots(figsize=(10, 10))\n",
    "\n",
    "    csc_around = csc_matched.query(\"srcname_fin\t== @eroid & sep<@search_rad\")\n",
    "    if len(csc_around) == 0:\n",
    "        pass\n",
    "        #print('No CSC')\n",
    "    else:\n",
    "        for row in csc_around.itertuples():\n",
    "            ra, dec, err = row.ra, row.dec, row.r_98_csc\n",
    "            ra = 3600*(ra - ero_ra)\n",
    "            dec = 3600*(dec - ero_dec)\n",
    "            circle = plt.Circle((ra, dec), err, color='b', fill=False, label = 'CSC')\n",
    "            ax.add_artist(circle)\n",
    "            circle = plt.Circle((ra, dec), 1.43, color='b', fill=False,  linestyle='dashed', alpha = 0.4)\n",
    "            ax.add_artist(circle)\n",
    "            \n",
    "\n",
    "\n",
    "    xmm_around = xmm_matched.query(\"srcname_fin\t== @eroid & Separation<@search_rad\")\n",
    "    if len(xmm_around) == 0:\n",
    "        #print('No XMM')\n",
    "        pass\n",
    "    else:\n",
    "        for row in xmm_around.itertuples():\n",
    "            ra, dec, err = row.SC_RA, row.SC_DEC, row.xmm_pos_r98\n",
    "            ra = 3600*(ra - ero_ra)\n",
    "            dec = 3600*(dec - ero_dec)\n",
    "            circle = plt.Circle((ra, dec), err, color='c', fill=False, label = 'XMM')\n",
    "            ax.add_artist(circle)\n",
    "            circle = plt.Circle((ra, dec), 1.43, color='c', fill=False,  linestyle='dashed', alpha = 0.4)\n",
    "            ax.add_artist(circle)\n",
    "\n",
    "\n",
    "\n",
    "    desi_around = desi_matched.query(\"srcname_fin == @eroid & desi_sep<@search_rad\")\n",
    "    if len(desi_around) == 0:\n",
    "        pass\n",
    "        #print('No DESI')\n",
    "    else:\n",
    "        for row in desi_around.itertuples():\n",
    "            ra, dec, err = row.desi_ra, row.desi_dec, 0.25\n",
    "            ra = 3600*(ra - ero_ra)\n",
    "            dec = 3600*(dec - ero_dec)\n",
    "            circle = plt.Circle((ra, dec), err, color='g', fill=False, label = '_DESI')\n",
    "            ax.add_artist(circle)\n",
    "            ax.text(ra, dec, row.desi_desi_id.split('_')[-1], color='g', fontsize=12)\n",
    "\n",
    "    circle = plt.Circle((0, 0), ero_err, color='r', fill=False, label = 'eRO')\n",
    "    ax.add_artist(circle)\n",
    "\n",
    "    axislim = 3*ero_err\n",
    "\n",
    "    ax.set_xlim(-axislim, axislim)\n",
    "    ax.set_ylim(-axislim, axislim)\n",
    "\n",
    "    ax.set_xlabel('delta RA, arcsec')\n",
    "    ax.set_ylabel('delta DEC, arcsec')\n",
    "    #invert x axis \n",
    "    ax.invert_xaxis()\n",
    "    ax.legend()\n",
    "\n",
    "    try:\n",
    "        true_ctps = ctps.query(\"ID==@eroid\").iloc[0].desi_id_true_ctp\n",
    "    except:\n",
    "        true_ctps = 'unknown'\n",
    "\n",
    "    title = eroid + '|'+  true_ctps# + '|' +'RA,DEC'+ str(ero_ra)+','+ str(ero_dec)\n",
    "    ax.set_title(title)\n",
    "    if savefig:\n",
    "        plt.savefig('plots/'+eroid.replace(' ','')+'_'+true_ctps+'.png', dpi=300)\n",
    "\n",
    "\n",
    "# plot_target('SRGe J103118.8+574434')\n",
    "# plot_target('SRGe J103130.8+573932') #nice example!\n",
    "# plot_target('SRGe J110721.3+590113')\n"
   ]
  },
  {
   "cell_type": "code",
   "execution_count": null,
   "metadata": {},
   "outputs": [],
   "source": [
    "from tqdm import tqdm_notebook as tqdm\n",
    "#for eroid in tqdm(ctps.query('desi_id_true_ctp!=\"hostless\"').sample(10).ID):\n",
    "#    print(eroid)\n",
    "#    plot_target(eroid, savefig = True)\n",
    "\n",
    "for eroid in tqdm(ctps.query('desi_id_true_ctp==\"hostless\"').sample(5).ID):\n",
    "    print(eroid)\n",
    "    plot_target(eroid, savefig = True)\n"
   ]
  },
  {
   "cell_type": "code",
   "execution_count": null,
   "metadata": {},
   "outputs": [],
   "source": [
    "# from tqdm import tqdm_notebook as tqdm\n",
    "# for eroid in tqdm(ctps.query('desi_id_true_ctp==\"hostless\"').ID):\n",
    "#     plot_target(eroid, savefig=True)\n",
    "#     plt.close('all')\n"
   ]
  }
 ],
 "metadata": {
  "kernelspec": {
   "display_name": "Python 3.10.4 ('venv_hea')",
   "language": "python",
   "name": "python3"
  },
  "language_info": {
   "codemirror_mode": {
    "name": "ipython",
    "version": 3
   },
   "file_extension": ".py",
   "mimetype": "text/x-python",
   "name": "python",
   "nbconvert_exporter": "python",
   "pygments_lexer": "ipython3",
   "version": "3.10.4"
  },
  "orig_nbformat": 4,
  "vscode": {
   "interpreter": {
    "hash": "e1dc9197fbdaf2df20a0ea77561d79844f791293e1aa1b8fac12d88bf49496cb"
   }
  }
 },
 "nbformat": 4,
 "nbformat_minor": 2
}
