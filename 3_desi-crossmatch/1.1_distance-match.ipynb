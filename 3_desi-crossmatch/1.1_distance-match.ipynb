{
 "cells": [
  {
   "cell_type": "code",
   "execution_count": 1,
   "metadata": {},
   "outputs": [],
   "source": [
    "import sys\n",
    "sys.path.append('../')\n",
    "sys.path.append('/Users/sdbykov/work/my_packages/nway')"
   ]
  },
  {
   "cell_type": "code",
   "execution_count": 2,
   "metadata": {},
   "outputs": [
    {
     "name": "stdout",
     "output_type": "stream",
     "text": [
      "matplotlib settings set\n"
     ]
    },
    {
     "name": "stderr",
     "output_type": "stream",
     "text": [
      "\n",
      "WARNING: version mismatch between CFITSIO header (v4.000999999999999) and linked library (v4.01).\n",
      "\n",
      "\n",
      "WARNING: version mismatch between CFITSIO header (v4.000999999999999) and linked library (v4.01).\n",
      "\n",
      "\n",
      "WARNING: version mismatch between CFITSIO header (v4.000999999999999) and linked library (v4.01).\n",
      "\n"
     ]
    },
    {
     "name": "stdout",
     "output_type": "stream",
     "text": [
      "matplotlib settings set\n",
      "This is NWAY Python API\n",
      "nwaylib file /Users/sdbykov/work/my_packages/nway/nwaylib/__init__.py\n"
     ]
    }
   ],
   "source": [
    "from scripts.utils import data_path, set_mpl\n",
    "from scripts.cross_match_scripts import fits_to_pandas, pandas_to_fits, assess_goodnes_of_cross_match\n",
    "import pandas as pd\n",
    "import numpy as np\n",
    "import seaborn as sns\n",
    "import nway_python_api as nway\n",
    "%matplotlib inline"
   ]
  },
  {
   "cell_type": "markdown",
   "metadata": {},
   "source": [
    "# Nway run in distnce-only mode"
   ]
  },
  {
   "cell_type": "code",
   "execution_count": 3,
   "metadata": {},
   "outputs": [
    {
     "data": {
      "text/html": [
       "<div>\n",
       "<style scoped>\n",
       "    .dataframe tbody tr th:only-of-type {\n",
       "        vertical-align: middle;\n",
       "    }\n",
       "\n",
       "    .dataframe tbody tr th {\n",
       "        vertical-align: top;\n",
       "    }\n",
       "\n",
       "    .dataframe thead th {\n",
       "        text-align: right;\n",
       "    }\n",
       "</style>\n",
       "<table border=\"1\" class=\"dataframe\">\n",
       "  <thead>\n",
       "    <tr style=\"text-align: right;\">\n",
       "      <th></th>\n",
       "      <th>EROSITA</th>\n",
       "      <th>ID</th>\n",
       "      <th>RA</th>\n",
       "      <th>DEC</th>\n",
       "      <th>pos_err</th>\n",
       "      <th>ML_FLUX_0</th>\n",
       "      <th>desi_id_true_ctp</th>\n",
       "    </tr>\n",
       "  </thead>\n",
       "  <tbody>\n",
       "    <tr>\n",
       "      <th>0</th>\n",
       "      <td>0</td>\n",
       "      <td>b'SRGe J103744.3+571156'</td>\n",
       "      <td>159.434594</td>\n",
       "      <td>57.198788</td>\n",
       "      <td>0.656740</td>\n",
       "      <td>3.284168e-12</td>\n",
       "      <td>NaN</td>\n",
       "    </tr>\n",
       "    <tr>\n",
       "      <th>1</th>\n",
       "      <td>1</td>\n",
       "      <td>b'SRGe J110137.5+572926'</td>\n",
       "      <td>165.406353</td>\n",
       "      <td>57.490464</td>\n",
       "      <td>0.689910</td>\n",
       "      <td>1.969860e-12</td>\n",
       "      <td>NaN</td>\n",
       "    </tr>\n",
       "    <tr>\n",
       "      <th>2</th>\n",
       "      <td>2</td>\n",
       "      <td>b'SRGe J110537.6+585120'</td>\n",
       "      <td>166.406669</td>\n",
       "      <td>58.855424</td>\n",
       "      <td>0.668180</td>\n",
       "      <td>1.505411e-12</td>\n",
       "      <td>NaN</td>\n",
       "    </tr>\n",
       "    <tr>\n",
       "      <th>3</th>\n",
       "      <td>3</td>\n",
       "      <td>b'SRGe J102349.9+563347'</td>\n",
       "      <td>155.958041</td>\n",
       "      <td>56.563186</td>\n",
       "      <td>0.652214</td>\n",
       "      <td>1.001123e-12</td>\n",
       "      <td>NaN</td>\n",
       "    </tr>\n",
       "    <tr>\n",
       "      <th>4</th>\n",
       "      <td>4</td>\n",
       "      <td>b'SRGe J105057.2+593215'</td>\n",
       "      <td>162.738144</td>\n",
       "      <td>59.537414</td>\n",
       "      <td>0.656779</td>\n",
       "      <td>9.137326e-13</td>\n",
       "      <td>NaN</td>\n",
       "    </tr>\n",
       "    <tr>\n",
       "      <th>...</th>\n",
       "      <td>...</td>\n",
       "      <td>...</td>\n",
       "      <td>...</td>\n",
       "      <td>...</td>\n",
       "      <td>...</td>\n",
       "      <td>...</td>\n",
       "      <td>...</td>\n",
       "    </tr>\n",
       "    <tr>\n",
       "      <th>9210</th>\n",
       "      <td>9210</td>\n",
       "      <td>b'SRGe J102315.1+561957'</td>\n",
       "      <td>155.813071</td>\n",
       "      <td>56.332561</td>\n",
       "      <td>3.950350</td>\n",
       "      <td>1.637604e-15</td>\n",
       "      <td>NaN</td>\n",
       "    </tr>\n",
       "    <tr>\n",
       "      <th>9211</th>\n",
       "      <td>9211</td>\n",
       "      <td>b'SRGe J102332.5+562524'</td>\n",
       "      <td>155.885436</td>\n",
       "      <td>56.423270</td>\n",
       "      <td>3.220603</td>\n",
       "      <td>1.608667e-15</td>\n",
       "      <td>NaN</td>\n",
       "    </tr>\n",
       "    <tr>\n",
       "      <th>9212</th>\n",
       "      <td>9212</td>\n",
       "      <td>b'SRGe J102235.0+561919'</td>\n",
       "      <td>155.645874</td>\n",
       "      <td>56.321872</td>\n",
       "      <td>3.025501</td>\n",
       "      <td>1.595806e-15</td>\n",
       "      <td>NaN</td>\n",
       "    </tr>\n",
       "    <tr>\n",
       "      <th>9213</th>\n",
       "      <td>9213</td>\n",
       "      <td>b'SRGe J102223.5+562357'</td>\n",
       "      <td>155.597875</td>\n",
       "      <td>56.399058</td>\n",
       "      <td>3.296691</td>\n",
       "      <td>1.532857e-15</td>\n",
       "      <td>NaN</td>\n",
       "    </tr>\n",
       "    <tr>\n",
       "      <th>9214</th>\n",
       "      <td>9214</td>\n",
       "      <td>b'SRGe J104406.3+545413'</td>\n",
       "      <td>161.026353</td>\n",
       "      <td>54.903612</td>\n",
       "      <td>3.084945</td>\n",
       "      <td>1.519228e-15</td>\n",
       "      <td>NaN</td>\n",
       "    </tr>\n",
       "  </tbody>\n",
       "</table>\n",
       "<p>9215 rows × 7 columns</p>\n",
       "</div>"
      ],
      "text/plain": [
       "      EROSITA                        ID          RA        DEC   pos_err  \\\n",
       "0           0  b'SRGe J103744.3+571156'  159.434594  57.198788  0.656740   \n",
       "1           1  b'SRGe J110137.5+572926'  165.406353  57.490464  0.689910   \n",
       "2           2  b'SRGe J110537.6+585120'  166.406669  58.855424  0.668180   \n",
       "3           3  b'SRGe J102349.9+563347'  155.958041  56.563186  0.652214   \n",
       "4           4  b'SRGe J105057.2+593215'  162.738144  59.537414  0.656779   \n",
       "...       ...                       ...         ...        ...       ...   \n",
       "9210     9210  b'SRGe J102315.1+561957'  155.813071  56.332561  3.950350   \n",
       "9211     9211  b'SRGe J102332.5+562524'  155.885436  56.423270  3.220603   \n",
       "9212     9212  b'SRGe J102235.0+561919'  155.645874  56.321872  3.025501   \n",
       "9213     9213  b'SRGe J102223.5+562357'  155.597875  56.399058  3.296691   \n",
       "9214     9214  b'SRGe J104406.3+545413'  161.026353  54.903612  3.084945   \n",
       "\n",
       "         ML_FLUX_0 desi_id_true_ctp  \n",
       "0     3.284168e-12              NaN  \n",
       "1     1.969860e-12              NaN  \n",
       "2     1.505411e-12              NaN  \n",
       "3     1.001123e-12              NaN  \n",
       "4     9.137326e-13              NaN  \n",
       "...            ...              ...  \n",
       "9210  1.637604e-15              NaN  \n",
       "9211  1.608667e-15              NaN  \n",
       "9212  1.595806e-15              NaN  \n",
       "9213  1.532857e-15              NaN  \n",
       "9214  1.519228e-15              NaN  \n",
       "\n",
       "[9215 rows x 7 columns]"
      ]
     },
     "execution_count": 3,
     "metadata": {},
     "output_type": "execute_result"
    }
   ],
   "source": [
    "ero_table = nway.table_from_fits(data_path+'ERO_lhpv_03_23_sd01_a15_g14.fits')\n",
    "desi_table = nway.table_from_fits(data_path+'desi_lh.fits', poserr_value=0.1)\n",
    "ero_pandas = fits_to_pandas('ERO_lhpv_03_23_sd01_a15_g14.fits')\n",
    "desi_pandas = fits_to_pandas('desi_lh.fits')\n",
    "\n",
    "ero_ctps_pandas = pd.read_pickle(data_path+'validation_ctps_ero_desi_lh.pkl')\n",
    "ero_pandas = ero_pandas.merge(ero_ctps_pandas, on='ID', how='left')\n",
    "\n",
    "nway_args = {'match_radius':30, 'prior_completeness':1,}\n",
    "\n",
    "ero_pandas\n"
   ]
  },
  {
   "cell_type": "code",
   "execution_count": 4,
   "metadata": {},
   "outputs": [
    {
     "name": "stderr",
     "output_type": "stream",
     "text": [
      "    adding angular separation columns\n",
      "matching: 145069 matches after filtering by search radius\n",
      "Primary catalogue \"EROSITA\" (9215), density gives 2.10e+07 objects on entire sky\n",
      "Catalogue \"DESI\" (2418574), density gives 2.39e+09 objects on entire sky\n",
      "Computing distance-based probabilities ...\n",
      "    correcting for unrelated associations ...\n",
      "100%|██████████| 9215/9215 [00:02<00:00, 3329.37it/s]\n",
      "\n",
      "Computing final probabilities ...\n",
      "    grouping by primary catalogue ID and flagging ...\n"
     ]
    }
   ],
   "source": [
    "\n",
    "nway_res_ero = nway.nwaylib.nway_match(\n",
    "[ero_table, desi_table],\n",
    "**nway_args\n",
    ")\n",
    "\n",
    "# nway_res_ero_random = nway.nwaylib.nway_match(\n",
    "# [ero_random_table, desi_table],\n",
    "# **nway_args\n",
    "# )\n",
    "#nway.calibrate_cutoff(nway_res_ero, nway_res_ero_random);"
   ]
  },
  {
   "cell_type": "code",
   "execution_count": 5,
   "metadata": {},
   "outputs": [],
   "source": [
    "nway_res_ero  = nway_res_ero.merge(ero_pandas, on='EROSITA')\n",
    "nway_res_ero  = nway_res_ero.merge(desi_pandas, on='DESI')\n",
    "nway_res_ero.sort_values(by=['EROSITA', 'prob_this_match' ], inplace=True, ascending=[True, False])\n",
    "nway_res_ero.to_pickle(data_path+'ERO_lhpv_03_23_sd01_a15_g14_nway_distance_only.pkl')"
   ]
  },
  {
   "cell_type": "code",
   "execution_count": 6,
   "metadata": {},
   "outputs": [
    {
     "name": "stdout",
     "output_type": "stream",
     "text": [
      " Completeness = 87% \n",
      " Purity = 87% \n",
      " prob_has_match optimal cutoff =  0.55 \n",
      " Fraction of sources with prob_has_match > 0.55 = 77%\n"
     ]
    },
    {
     "data": {
      "image/png": "[encoded data removed]",
      "text/plain": [
       "<Figure size 648x432 with 1 Axes>"
      ]
     },
     "metadata": {
      "needs_background": "light"
     },
     "output_type": "display_data"
    },
    {
     "name": "stdout",
     "output_type": "stream",
     "text": [
      " NOT HOSTLESS \n",
      "assigned NOT HOSTLESS: 520\n",
      "assigned NOT HOSTLESS with correct match: 452\n",
      "total: 597\n",
      "purity [assigned NOT HOSTLESS correctly / all NOT HOSTLESS]: 0.8692307692307693\n",
      "completeness [all NOT HOSTLESS / total NOT HOSTLESS]: 0.8710217755443886\n",
      " HOSTLESS \n",
      "assigned HOSTLESS: 42\n",
      "assigned HOSTLESS correctly: 42\n",
      "total HOSTLESS: 54\n",
      "purity [assigned HOSTLESS correctly / all assigned HOSTLESS]: 1.0\n",
      "completeness [all HOSTLESS assigned / total HOSTLESS]: 0.7777777777777778\n"
     ]
    }
   ],
   "source": [
    "assess_goodnes_of_cross_match(nway_res_ero);"
   ]
  }
 ],
 "metadata": {
  "kernelspec": {
   "display_name": "Python 3.10.4 ('venv_hea')",
   "language": "python",
   "name": "python3"
  },
  "language_info": {
   "codemirror_mode": {
    "name": "ipython",
    "version": 3
   },
   "file_extension": ".py",
   "mimetype": "text/x-python",
   "name": "python",
   "nbconvert_exporter": "python",
   "pygments_lexer": "ipython3",
   "version": "3.10.4"
  },
  "orig_nbformat": 4,
  "vscode": {
   "interpreter": {
    "hash": "e1dc9197fbdaf2df20a0ea77561d79844f791293e1aa1b8fac12d88bf49496cb"
   }
  }
 },
 "nbformat": 4,
 "nbformat_minor": 2
}
