{
 "cells": [
  {
   "cell_type": "code",
   "execution_count": 1,
   "metadata": {},
   "outputs": [
    {
     "name": "stdout",
     "output_type": "stream",
     "text": [
      "This is NWAY Python API\n"
     ]
    },
    {
     "name": "stderr",
     "output_type": "stream",
     "text": [
      "\n",
      "WARNING: version mismatch between CFITSIO header (v4.000999999999999) and linked library (v4.01).\n",
      "\n",
      "\n",
      "WARNING: version mismatch between CFITSIO header (v4.000999999999999) and linked library (v4.01).\n",
      "\n",
      "\n",
      "WARNING: version mismatch between CFITSIO header (v4.000999999999999) and linked library (v4.01).\n",
      "\n"
     ]
    },
    {
     "name": "stdout",
     "output_type": "stream",
     "text": [
      "nwaylib file /Users/sdbykov/work/my_packages/nway/nwaylib/__init__.py\n"
     ]
    }
   ],
   "source": [
    "import sys\n",
    "sys.path.append('../')\n",
    "sys.path.append('/Users/sdbykov/work/my_packages/nway')\n",
    "import nway_python_api as nway\n"
   ]
  },
  {
   "cell_type": "code",
   "execution_count": 2,
   "metadata": {},
   "outputs": [],
   "source": [
    "from scripts.viewer import desi_image_cutout\n",
    "import pandas as pd\n",
    "pd.set_option('display.max_columns', 500)\n",
    "\n",
    "import numpy as np\n",
    "import matplotlib.pyplot as plt\n",
    "%matplotlib inline"
   ]
  },
  {
   "cell_type": "code",
   "execution_count": null,
   "metadata": {},
   "outputs": [],
   "source": [
    "# Clean XMM and CSC data\n",
    "from scripts.utils import data_path\n",
    "\n",
    "xmm_clean_df = pd.read_pickle(data_path+'xmm_cleared.pkl')\n",
    "csc_clean_df = pd.read_pickle(data_path+'csc_cleared.pkl')\n",
    "\n",
    "# Spectral classification of the counterparts\n",
    "class_df = pd.read_pickle(\n",
    "   data_path+'ERO_lhpv_03_23_sd01_a15_g14_desi_nway_match_xmatch_local_simbad.gz_pkl',compression='gzip')\n",
    "\n",
    "# All DESI soruces in LH TODO: replace with correlation with ERO in 60 arcsec\n",
    "desi_df = pd.read_pickle(data_path+'desi_lh.gz_pkl', compression='gzip')\n",
    "\n",
    "# All candidates fith nway features\n",
    "ero_allcand_df = pd.read_pickle(\n",
    "    data_path+'ERO_lhpv_03_23_sd01_a15_g14_desi_nway_match_all_candidates.gz_pkl',\n",
    "    compression='gzip')\n",
    "\n",
    "sdss_spec_df = pd.read_csv(data_path+'spec_class_LH_m_belveder.csv')\n",
    "\n"
   ]
  },
  {
   "cell_type": "code",
   "execution_count": null,
   "metadata": {},
   "outputs": [],
   "source": [
    "for _, row in class_df[~class_df['SDSS_objID'].isna()].sample(5, random_state=3).iterrows():\n",
    "\n",
    "        desi_image_cutout(\n",
    "                ero_df=ero_allcand_df,\n",
    "                ero_name=row['srcname_fin'],\n",
    "                csc_df=csc_clean_df,\n",
    "                xmm_df=xmm_clean_df,\n",
    "                sdss_df=sdss_spec_df,\n",
    "                desi_df=desi_df,\n",
    "                jpeg=True # True может привести к ошибке, если проблемы с доступом к серверу\n",
    "                )"
   ]
  }
 ],
 "metadata": {
  "kernelspec": {
   "display_name": "Python 3.10.4 ('venv_hea')",
   "language": "python",
   "name": "python3"
  },
  "language_info": {
   "codemirror_mode": {
    "name": "ipython",
    "version": 3
   },
   "file_extension": ".py",
   "mimetype": "text/x-python",
   "name": "python",
   "nbconvert_exporter": "python",
   "pygments_lexer": "ipython3",
   "version": "3.10.4"
  },
  "orig_nbformat": 4,
  "vscode": {
   "interpreter": {
    "hash": "e1dc9197fbdaf2df20a0ea77561d79844f791293e1aa1b8fac12d88bf49496cb"
   }
  }
 },
 "nbformat": 4,
 "nbformat_minor": 2
}
