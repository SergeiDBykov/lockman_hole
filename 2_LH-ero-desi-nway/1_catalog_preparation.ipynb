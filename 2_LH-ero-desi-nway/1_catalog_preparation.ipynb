{
 "cells": [
  {
   "cell_type": "code",
   "execution_count": 17,
   "metadata": {},
   "outputs": [
    {
     "name": "stdout",
     "output_type": "stream",
     "text": [
      "This is NWAY Python API\n",
      "nwaylib file /Users/sdbykov/opt/miniconda3/envs/venv_hea/lib/python3.10/site-packages/nwaylib/__init__.py\n"
     ]
    }
   ],
   "source": [
    "import sys\n",
    "sys.path.append('../')\n",
    "sys.path.append('/Users/sdbykov/work/my_packages/nway')"
   ]
  },
  {
   "cell_type": "code",
   "execution_count": 18,
   "metadata": {},
   "outputs": [],
   "source": [
    "from scripts.utils import data_path, set_mpl\n",
    "from scripts.cross_match_scripts import cat2hpx, pandas_to_fits, my_scaler_forward\n",
    "from tqdm import tqdm\n",
    "import pandas as pd\n",
    "import numpy as np\n",
    "import seaborn as sns\n",
    "import astropy.io.fits as fits\n",
    "import healpy as hp\n",
    "import nway_python_api as nway\n",
    "%matplotlib inline"
   ]
  },
  {
   "cell_type": "markdown",
   "metadata": {},
   "source": [
    "# LH X-ray catalog"
   ]
  },
  {
   "cell_type": "markdown",
   "metadata": {},
   "source": [
    "Read catalog and create a fits table with positions and positional errors"
   ]
  },
  {
   "cell_type": "markdown",
   "metadata": {},
   "source": [
    "`pos_r98` - radius of a circle which has a probability of finding a counterpart is 98% if it exists, in arcseconds"
   ]
  },
  {
   "cell_type": "code",
   "execution_count": 19,
   "metadata": {},
   "outputs": [
    {
     "name": "stdout",
     "output_type": "stream",
     "text": [
      "**************************************************\n",
      "using positional error columns: pos_r68\n",
      "**************************************************\n"
     ]
    }
   ],
   "source": [
    "xcat_orig = pd.read_pickle(data_path+'ERO_lhpv_03_23_sd01_a15_g14.pkl')\n",
    "\n",
    "positional_error_columns = 'pos_r68'\n",
    "print('*'*50)\n",
    "print('using positional error columns:', positional_error_columns)\n",
    "print('*'*50)\n",
    "\n",
    "columns_to_retain = ['srcname_fin', 'RA_fin', 'DEC_fin', positional_error_columns, 'ML_FLUX_0'] \n",
    "\n",
    "\n",
    "xcat = xcat_orig[xcat_orig['DET_LIKE_0']>6]\n",
    "xcat = xcat[columns_to_retain]\n",
    "xcat.rename(columns={'RA_fin':'RA', 'DEC_fin':'DEC', positional_error_columns:'pos_err', 'srcname_fin': 'ID'}, inplace=True)\n",
    "\n",
    "def r98_correction(r98):\n",
    "    if r98<5:\n",
    "        return 5\n",
    "    else:\n",
    "        return r98*1.1\n",
    "\n",
    "#xcat['pos_err'] = xcat['pos_err'].apply(r98_correction)"
   ]
  },
  {
   "cell_type": "code",
   "execution_count": 20,
   "metadata": {},
   "outputs": [
    {
     "data": {
      "text/html": [
       "<div>\n",
       "<style scoped>\n",
       "    .dataframe tbody tr th:only-of-type {\n",
       "        vertical-align: middle;\n",
       "    }\n",
       "\n",
       "    .dataframe tbody tr th {\n",
       "        vertical-align: top;\n",
       "    }\n",
       "\n",
       "    .dataframe thead th {\n",
       "        text-align: right;\n",
       "    }\n",
       "</style>\n",
       "<table border=\"1\" class=\"dataframe\">\n",
       "  <thead>\n",
       "    <tr style=\"text-align: right;\">\n",
       "      <th></th>\n",
       "      <th>srcname_fin</th>\n",
       "      <th>RA_fin</th>\n",
       "      <th>DEC_fin</th>\n",
       "      <th>GLON</th>\n",
       "      <th>GLAT</th>\n",
       "      <th>pos_r98</th>\n",
       "      <th>DET_LIKE_0</th>\n",
       "      <th>ML_FLUX_0</th>\n",
       "      <th>ML_FLUX_ERR_0</th>\n",
       "      <th>ML_CTS_0</th>\n",
       "      <th>ML_CTS_ERR_0</th>\n",
       "      <th>ML_EXP_1</th>\n",
       "      <th>EXT</th>\n",
       "      <th>EXT_LIKE</th>\n",
       "      <th>EXT_ERR</th>\n",
       "      <th>ID_SRC</th>\n",
       "      <th>ID_CLUSTER</th>\n",
       "      <th>RA</th>\n",
       "      <th>DEC</th>\n",
       "      <th>RADEC_ERR</th>\n",
       "      <th>DIST_NN</th>\n",
       "      <th>SRCDENS</th>\n",
       "      <th>TSTART</th>\n",
       "      <th>TSTOP</th>\n",
       "      <th>EXT_LOWERR</th>\n",
       "      <th>EXT_UPERR</th>\n",
       "      <th>ML_RATE_0</th>\n",
       "      <th>ML_RATE_ERR_0</th>\n",
       "      <th>ML_BKG_0</th>\n",
       "      <th>RA_corr</th>\n",
       "      <th>DEC_corr</th>\n",
       "      <th>g_id</th>\n",
       "      <th>g_d2d</th>\n",
       "      <th>g_nsrc</th>\n",
       "      <th>g_s</th>\n",
       "      <th>g_gmag</th>\n",
       "      <th>g_maxLx</th>\n",
       "      <th>g_b</th>\n",
       "      <th>s_id</th>\n",
       "      <th>s_z</th>\n",
       "      <th>s_otype</th>\n",
       "      <th>s_d2d</th>\n",
       "      <th>s_nsrc</th>\n",
       "      <th>flag_xray</th>\n",
       "      <th>flag_radio</th>\n",
       "      <th>flag_agn_wise</th>\n",
       "      <th>w1</th>\n",
       "      <th>w2</th>\n",
       "      <th>w3</th>\n",
       "      <th>w1snr</th>\n",
       "      <th>w2snr</th>\n",
       "      <th>w3snr</th>\n",
       "      <th>w_nsrc</th>\n",
       "      <th>sdss_nsrc</th>\n",
       "      <th>sdss_p</th>\n",
       "      <th>sdss_id</th>\n",
       "      <th>sdss_sp</th>\n",
       "      <th>sdss_d2d</th>\n",
       "      <th>hpidx</th>\n",
       "      <th>RADEC_ERR_fin</th>\n",
       "      <th>pos_sigma_2d</th>\n",
       "      <th>pos_r68</th>\n",
       "      <th>pos_r95</th>\n",
       "      <th>ELON</th>\n",
       "      <th>ELAT</th>\n",
       "      <th>flux_05-20</th>\n",
       "      <th>NH</th>\n",
       "    </tr>\n",
       "  </thead>\n",
       "  <tbody>\n",
       "    <tr>\n",
       "      <th>0</th>\n",
       "      <td>SRGe J103744.3+571156</td>\n",
       "      <td>159.434594</td>\n",
       "      <td>57.198788</td>\n",
       "      <td>151.771105</td>\n",
       "      <td>51.782607</td>\n",
       "      <td>2.041112</td>\n",
       "      <td>26414.902344</td>\n",
       "      <td>3.284168e-12</td>\n",
       "      <td>3.904461e-13</td>\n",
       "      <td>15460.503906</td>\n",
       "      <td>1838.058594</td>\n",
       "      <td>4300.765625</td>\n",
       "      <td>0.0</td>\n",
       "      <td>0.0</td>\n",
       "      <td>0.0</td>\n",
       "      <td>1</td>\n",
       "      <td>1</td>\n",
       "      <td>159.436603</td>\n",
       "      <td>57.197499</td>\n",
       "      <td>0.318530</td>\n",
       "      <td>6.785297</td>\n",
       "      <td>0.000011</td>\n",
       "      <td>6.268413e+08</td>\n",
       "      <td>6.270701e+08</td>\n",
       "      <td>0.0</td>\n",
       "      <td>0.0</td>\n",
       "      <td>3.594826</td>\n",
       "      <td>0.427379</td>\n",
       "      <td>20.898417</td>\n",
       "      <td>159.434594</td>\n",
       "      <td>57.198788</td>\n",
       "      <td>853989860956388736</td>\n",
       "      <td>6.040749</td>\n",
       "      <td>1</td>\n",
       "      <td>0</td>\n",
       "      <td>15.749939</td>\n",
       "      <td>-1.0</td>\n",
       "      <td>0</td>\n",
       "      <td>87GB 103431.3+572750</td>\n",
       "      <td>0.8307</td>\n",
       "      <td>BLLac</td>\n",
       "      <td>6.040664</td>\n",
       "      <td>4</td>\n",
       "      <td>1</td>\n",
       "      <td>1</td>\n",
       "      <td>1</td>\n",
       "      <td>12.218</td>\n",
       "      <td>11.328</td>\n",
       "      <td>9.144</td>\n",
       "      <td>46.2</td>\n",
       "      <td>51.7</td>\n",
       "      <td>34.4</td>\n",
       "      <td>1</td>\n",
       "      <td>3</td>\n",
       "      <td>1</td>\n",
       "      <td>1237658303278743603</td>\n",
       "      <td>7980433077213351936</td>\n",
       "      <td>6.099201</td>\n",
       "      <td>65741514189</td>\n",
       "      <td>0.318530</td>\n",
       "      <td>0.729711</td>\n",
       "      <td>1.101567</td>\n",
       "      <td>1.786149</td>\n",
       "      <td>134.901685</td>\n",
       "      <td>44.066998</td>\n",
       "      <td>2.527295e-12</td>\n",
       "      <td>5.451755e+19</td>\n",
       "    </tr>\n",
       "    <tr>\n",
       "      <th>1</th>\n",
       "      <td>SRGe J110137.5+572926</td>\n",
       "      <td>165.406353</td>\n",
       "      <td>57.490464</td>\n",
       "      <td>147.861359</td>\n",
       "      <td>53.996717</td>\n",
       "      <td>2.144203</td>\n",
       "      <td>5344.646973</td>\n",
       "      <td>1.969860e-12</td>\n",
       "      <td>5.570020e-14</td>\n",
       "      <td>1436.945923</td>\n",
       "      <td>40.631405</td>\n",
       "      <td>666.426941</td>\n",
       "      <td>0.0</td>\n",
       "      <td>0.0</td>\n",
       "      <td>0.0</td>\n",
       "      <td>21</td>\n",
       "      <td>14</td>\n",
       "      <td>165.408362</td>\n",
       "      <td>57.489175</td>\n",
       "      <td>0.433455</td>\n",
       "      <td>41.040825</td>\n",
       "      <td>0.000030</td>\n",
       "      <td>6.268413e+08</td>\n",
       "      <td>6.270701e+08</td>\n",
       "      <td>0.0</td>\n",
       "      <td>0.0</td>\n",
       "      <td>2.156194</td>\n",
       "      <td>0.060969</td>\n",
       "      <td>4.025409</td>\n",
       "      <td>165.406353</td>\n",
       "      <td>57.490464</td>\n",
       "      <td>857143329024245888</td>\n",
       "      <td>7.121849</td>\n",
       "      <td>2</td>\n",
       "      <td>1</td>\n",
       "      <td>10.012074</td>\n",
       "      <td>NaN</td>\n",
       "      <td>0</td>\n",
       "      <td>HD 237963</td>\n",
       "      <td>NaN</td>\n",
       "      <td>Star</td>\n",
       "      <td>7.105646</td>\n",
       "      <td>1</td>\n",
       "      <td>1</td>\n",
       "      <td>0</td>\n",
       "      <td>0</td>\n",
       "      <td>8.146</td>\n",
       "      <td>8.155</td>\n",
       "      <td>8.124</td>\n",
       "      <td>47.2</td>\n",
       "      <td>55.3</td>\n",
       "      <td>51.5</td>\n",
       "      <td>1</td>\n",
       "      <td>3</td>\n",
       "      <td>1</td>\n",
       "      <td>1237658302206378052</td>\n",
       "      <td>0</td>\n",
       "      <td>3.844748</td>\n",
       "      <td>64609311305</td>\n",
       "      <td>0.433455</td>\n",
       "      <td>0.766567</td>\n",
       "      <td>1.157204</td>\n",
       "      <td>1.876362</td>\n",
       "      <td>138.528408</td>\n",
       "      <td>46.042071</td>\n",
       "      <td>1.515884e-12</td>\n",
       "      <td>7.056474e+19</td>\n",
       "    </tr>\n",
       "  </tbody>\n",
       "</table>\n",
       "</div>"
      ],
      "text/plain": [
       "             srcname_fin      RA_fin    DEC_fin        GLON       GLAT  \\\n",
       "0  SRGe J103744.3+571156  159.434594  57.198788  151.771105  51.782607   \n",
       "1  SRGe J110137.5+572926  165.406353  57.490464  147.861359  53.996717   \n",
       "\n",
       "    pos_r98    DET_LIKE_0     ML_FLUX_0  ML_FLUX_ERR_0      ML_CTS_0  \\\n",
       "0  2.041112  26414.902344  3.284168e-12   3.904461e-13  15460.503906   \n",
       "1  2.144203   5344.646973  1.969860e-12   5.570020e-14   1436.945923   \n",
       "\n",
       "   ML_CTS_ERR_0     ML_EXP_1  EXT  EXT_LIKE  EXT_ERR  ID_SRC  ID_CLUSTER  \\\n",
       "0   1838.058594  4300.765625  0.0       0.0      0.0       1           1   \n",
       "1     40.631405   666.426941  0.0       0.0      0.0      21          14   \n",
       "\n",
       "           RA        DEC  RADEC_ERR    DIST_NN   SRCDENS        TSTART  \\\n",
       "0  159.436603  57.197499   0.318530   6.785297  0.000011  6.268413e+08   \n",
       "1  165.408362  57.489175   0.433455  41.040825  0.000030  6.268413e+08   \n",
       "\n",
       "          TSTOP  EXT_LOWERR  EXT_UPERR  ML_RATE_0  ML_RATE_ERR_0   ML_BKG_0  \\\n",
       "0  6.270701e+08         0.0        0.0   3.594826       0.427379  20.898417   \n",
       "1  6.270701e+08         0.0        0.0   2.156194       0.060969   4.025409   \n",
       "\n",
       "      RA_corr   DEC_corr                g_id     g_d2d  g_nsrc  g_s  \\\n",
       "0  159.434594  57.198788  853989860956388736  6.040749       1    0   \n",
       "1  165.406353  57.490464  857143329024245888  7.121849       2    1   \n",
       "\n",
       "      g_gmag  g_maxLx  g_b                  s_id     s_z s_otype     s_d2d  \\\n",
       "0  15.749939     -1.0    0  87GB 103431.3+572750  0.8307   BLLac  6.040664   \n",
       "1  10.012074      NaN    0             HD 237963     NaN    Star  7.105646   \n",
       "\n",
       "   s_nsrc  flag_xray  flag_radio  flag_agn_wise      w1      w2     w3  w1snr  \\\n",
       "0       4          1           1              1  12.218  11.328  9.144   46.2   \n",
       "1       1          1           0              0   8.146   8.155  8.124   47.2   \n",
       "\n",
       "   w2snr  w3snr  w_nsrc  sdss_nsrc  sdss_p              sdss_id  \\\n",
       "0   51.7   34.4       1          3       1  1237658303278743603   \n",
       "1   55.3   51.5       1          3       1  1237658302206378052   \n",
       "\n",
       "               sdss_sp  sdss_d2d        hpidx  RADEC_ERR_fin  pos_sigma_2d  \\\n",
       "0  7980433077213351936  6.099201  65741514189       0.318530      0.729711   \n",
       "1                    0  3.844748  64609311305       0.433455      0.766567   \n",
       "\n",
       "    pos_r68   pos_r95        ELON       ELAT    flux_05-20            NH  \n",
       "0  1.101567  1.786149  134.901685  44.066998  2.527295e-12  5.451755e+19  \n",
       "1  1.157204  1.876362  138.528408  46.042071  1.515884e-12  7.056474e+19  "
      ]
     },
     "execution_count": 20,
     "metadata": {},
     "output_type": "execute_result"
    }
   ],
   "source": [
    "xcat_orig.head(2)\n",
    "#pos_sigma_2d fitted with gaia offsets"
   ]
  },
  {
   "cell_type": "code",
   "execution_count": 21,
   "metadata": {},
   "outputs": [
    {
     "data": {
      "text/html": [
       "<div>\n",
       "<style scoped>\n",
       "    .dataframe tbody tr th:only-of-type {\n",
       "        vertical-align: middle;\n",
       "    }\n",
       "\n",
       "    .dataframe tbody tr th {\n",
       "        vertical-align: top;\n",
       "    }\n",
       "\n",
       "    .dataframe thead th {\n",
       "        text-align: right;\n",
       "    }\n",
       "</style>\n",
       "<table border=\"1\" class=\"dataframe\">\n",
       "  <thead>\n",
       "    <tr style=\"text-align: right;\">\n",
       "      <th></th>\n",
       "      <th>pos_r98</th>\n",
       "      <th>pos_sigma_2d</th>\n",
       "      <th>pos_r68</th>\n",
       "      <th>pos_r95</th>\n",
       "    </tr>\n",
       "  </thead>\n",
       "  <tbody>\n",
       "    <tr>\n",
       "      <th>mean</th>\n",
       "      <td>8.311198</td>\n",
       "      <td>2.971310</td>\n",
       "      <td>4.485466</td>\n",
       "      <td>7.273014</td>\n",
       "    </tr>\n",
       "    <tr>\n",
       "      <th>std</th>\n",
       "      <td>4.529825</td>\n",
       "      <td>1.619443</td>\n",
       "      <td>2.444699</td>\n",
       "      <td>3.963987</td>\n",
       "    </tr>\n",
       "    <tr>\n",
       "      <th>25%</th>\n",
       "      <td>5.779061</td>\n",
       "      <td>2.066054</td>\n",
       "      <td>3.118898</td>\n",
       "      <td>5.057176</td>\n",
       "    </tr>\n",
       "    <tr>\n",
       "      <th>50%</th>\n",
       "      <td>7.927672</td>\n",
       "      <td>2.834197</td>\n",
       "      <td>4.278481</td>\n",
       "      <td>6.937396</td>\n",
       "    </tr>\n",
       "    <tr>\n",
       "      <th>75%</th>\n",
       "      <td>9.985523</td>\n",
       "      <td>3.569892</td>\n",
       "      <td>5.389082</td>\n",
       "      <td>8.738193</td>\n",
       "    </tr>\n",
       "  </tbody>\n",
       "</table>\n",
       "</div>"
      ],
      "text/plain": [
       "       pos_r98  pos_sigma_2d   pos_r68   pos_r95\n",
       "mean  8.311198      2.971310  4.485466  7.273014\n",
       "std   4.529825      1.619443  2.444699  3.963987\n",
       "25%   5.779061      2.066054  3.118898  5.057176\n",
       "50%   7.927672      2.834197  4.278481  6.937396\n",
       "75%   9.985523      3.569892  5.389082  8.738193"
      ]
     },
     "execution_count": 21,
     "metadata": {},
     "output_type": "execute_result"
    }
   ],
   "source": [
    "xcat_orig[['pos_r98', 'pos_sigma_2d', 'pos_r68', 'pos_r95']].describe().loc[['mean', 'std', '25%', '50%', '75%']]"
   ]
  },
  {
   "cell_type": "markdown",
   "metadata": {},
   "source": [
    "## area and plotting"
   ]
  },
  {
   "cell_type": "code",
   "execution_count": 22,
   "metadata": {},
   "outputs": [
    {
     "name": "stdout",
     "output_type": "stream",
     "text": [
      "Resolution of the HEALPix map:\n",
      "0.05725810686362343 deg per pixel, or\n",
      "3.435486411817406 arcmin per pixel, or\n",
      "206.12918470904435 arcsec per pixel\n",
      "18.385776415407125 sq. deg.\n"
     ]
    },
    {
     "data": {
      "image/png": "[encoded data removed]",
      "text/plain": [
       "<Figure size 417.6x460.8 with 2 Axes>"
      ]
     },
     "metadata": {
      "needs_background": "light"
     },
     "output_type": "display_data"
    }
   ],
   "source": [
    "xcat_hp_map = cat2hpx(xcat['RA'], xcat['DEC'], nside=1024, radec=True)\n",
    "hp.gnomview(xcat_hp_map, rot = [150.23,52.19], xsize = 400)\n",
    "\n",
    "ERO_SKYAREA = 4*np.pi*(np.rad2deg(1))**2 * np.sum(xcat_hp_map>=1)/len(xcat_hp_map)\n",
    "print(ERO_SKYAREA, 'sq. deg.')"
   ]
  },
  {
   "cell_type": "code",
   "execution_count": 23,
   "metadata": {},
   "outputs": [],
   "source": [
    "pandas_to_fits(dataframe = xcat, \n",
    "                filename = 'ERO_lhpv_03_23_sd01_a15_g14.fits',\n",
    "                table_header_name = 'eROSITA',\n",
    "                sky_area_deg2 = ERO_SKYAREA)"
   ]
  },
  {
   "cell_type": "code",
   "execution_count": 26,
   "metadata": {},
   "outputs": [
    {
     "data": {
      "text/html": [
       "<div>\n",
       "<style scoped>\n",
       "    .dataframe tbody tr th:only-of-type {\n",
       "        vertical-align: middle;\n",
       "    }\n",
       "\n",
       "    .dataframe tbody tr th {\n",
       "        vertical-align: top;\n",
       "    }\n",
       "\n",
       "    .dataframe thead th {\n",
       "        text-align: right;\n",
       "    }\n",
       "</style>\n",
       "<table border=\"1\" class=\"dataframe\">\n",
       "  <thead>\n",
       "    <tr style=\"text-align: right;\">\n",
       "      <th></th>\n",
       "      <th>RA</th>\n",
       "      <th>DEC</th>\n",
       "    </tr>\n",
       "  </thead>\n",
       "  <tbody>\n",
       "    <tr>\n",
       "      <th>min</th>\n",
       "      <td>154.763934</td>\n",
       "      <td>54.124219</td>\n",
       "    </tr>\n",
       "    <tr>\n",
       "      <th>max</th>\n",
       "      <td>167.084550</td>\n",
       "      <td>61.236185</td>\n",
       "    </tr>\n",
       "  </tbody>\n",
       "</table>\n",
       "</div>"
      ],
      "text/plain": [
       "             RA        DEC\n",
       "min  154.763934  54.124219\n",
       "max  167.084550  61.236185"
      ]
     },
     "execution_count": 26,
     "metadata": {},
     "output_type": "execute_result"
    }
   ],
   "source": [
    "xcat[['RA', 'DEC']].describe().loc[['min', 'max']]"
   ]
  },
  {
   "cell_type": "markdown",
   "metadata": {},
   "source": [
    "## Random catalog"
   ]
  },
  {
   "cell_type": "code",
   "execution_count": 15,
   "metadata": {},
   "outputs": [
    {
     "name": "stdout",
     "output_type": "stream",
     "text": [
      "opening /Users/sdbykov/work/lockman_hole/0_data/ERO_lhpv_03_23_sd01_a15_g14.fits\n",
      "    using RA  column: RA\n",
      "    using DEC column: DEC\n"
     ]
    },
    {
     "name": "stderr",
     "output_type": "stream",
     "text": [
      "100%|██████████| 9500/9500 [00:06<00:00, 1480.85it/s]"
     ]
    },
    {
     "name": "stdout",
     "output_type": "stream",
     "text": [
      "removed 1325 sources which collide with original positions\n",
      "writing \"/Users/sdbykov/work/lockman_hole/0_data/ERO_lhpv_03_23_sd01_a15_g14_shifted.fits\" (8175 rows)\n"
     ]
    },
    {
     "name": "stderr",
     "output_type": "stream",
     "text": [
      "\n"
     ]
    }
   ],
   "source": [
    "nway.create_shifted_catalogue(inputfile=data_path+'ERO_lhpv_03_23_sd01_a15_g14.fits', outputfile=data_path+'ERO_lhpv_03_23_sd01_a15_g14_shifted.fits', shift_dec=300, radius=40)"
   ]
  },
  {
   "cell_type": "markdown",
   "metadata": {},
   "source": [
    "# LH DESI catalog\n",
    "\n",
    "All DESI objects within LH area + a little boundary\n"
   ]
  },
  {
   "cell_type": "code",
   "execution_count": 32,
   "metadata": {},
   "outputs": [
    {
     "name": "stdout",
     "output_type": "stream",
     "text": [
      "2418574 original objects\n",
      "2418574 after removing duplicates\n"
     ]
    },
    {
     "data": {
      "text/html": [
       "<div>\n",
       "<style scoped>\n",
       "    .dataframe tbody tr th:only-of-type {\n",
       "        vertical-align: middle;\n",
       "    }\n",
       "\n",
       "    .dataframe tbody tr th {\n",
       "        vertical-align: top;\n",
       "    }\n",
       "\n",
       "    .dataframe thead th {\n",
       "        text-align: right;\n",
       "    }\n",
       "</style>\n",
       "<table border=\"1\" class=\"dataframe\">\n",
       "  <thead>\n",
       "    <tr style=\"text-align: right;\">\n",
       "      <th></th>\n",
       "      <th>desi_id</th>\n",
       "      <th>ra</th>\n",
       "      <th>dec</th>\n",
       "      <th>mag_g</th>\n",
       "      <th>mag_r</th>\n",
       "      <th>mag_z</th>\n",
       "      <th>mag_w1</th>\n",
       "      <th>mag_w2</th>\n",
       "    </tr>\n",
       "  </thead>\n",
       "  <tbody>\n",
       "    <tr>\n",
       "      <th>0</th>\n",
       "      <td>9011_606802_2605</td>\n",
       "      <td>165.460954</td>\n",
       "      <td>56.382573</td>\n",
       "      <td>2.915254</td>\n",
       "      <td>2.087654</td>\n",
       "      <td>1.722280</td>\n",
       "      <td>5.013193</td>\n",
       "      <td>5.196579</td>\n",
       "    </tr>\n",
       "    <tr>\n",
       "      <th>1</th>\n",
       "      <td>9011_605177_2992</td>\n",
       "      <td>157.655218</td>\n",
       "      <td>55.980398</td>\n",
       "      <td>4.877345</td>\n",
       "      <td>4.564330</td>\n",
       "      <td>4.505185</td>\n",
       "      <td>6.241055</td>\n",
       "      <td>6.745312</td>\n",
       "    </tr>\n",
       "    <tr>\n",
       "      <th>2</th>\n",
       "      <td>9011_608375_2337</td>\n",
       "      <td>158.790917</td>\n",
       "      <td>57.082795</td>\n",
       "      <td>5.150754</td>\n",
       "      <td>5.013778</td>\n",
       "      <td>5.079414</td>\n",
       "      <td>6.963816</td>\n",
       "      <td>7.265361</td>\n",
       "    </tr>\n",
       "    <tr>\n",
       "      <th>3</th>\n",
       "      <td>9011_609165_2169</td>\n",
       "      <td>160.930717</td>\n",
       "      <td>57.198968</td>\n",
       "      <td>5.623667</td>\n",
       "      <td>5.891215</td>\n",
       "      <td>6.298098</td>\n",
       "      <td>8.569067</td>\n",
       "      <td>9.066921</td>\n",
       "    </tr>\n",
       "    <tr>\n",
       "      <th>4</th>\n",
       "      <td>9011_615262_2652</td>\n",
       "      <td>162.848613</td>\n",
       "      <td>59.319899</td>\n",
       "      <td>5.885894</td>\n",
       "      <td>5.040292</td>\n",
       "      <td>4.663559</td>\n",
       "      <td>5.754431</td>\n",
       "      <td>6.882899</td>\n",
       "    </tr>\n",
       "    <tr>\n",
       "      <th>...</th>\n",
       "      <td>...</td>\n",
       "      <td>...</td>\n",
       "      <td>...</td>\n",
       "      <td>...</td>\n",
       "      <td>...</td>\n",
       "      <td>...</td>\n",
       "      <td>...</td>\n",
       "      <td>...</td>\n",
       "    </tr>\n",
       "    <tr>\n",
       "      <th>2418569</th>\n",
       "      <td>9011_605995_1099</td>\n",
       "      <td>162.677475</td>\n",
       "      <td>56.208173</td>\n",
       "      <td>NaN</td>\n",
       "      <td>12.384571</td>\n",
       "      <td>12.580270</td>\n",
       "      <td>11.265625</td>\n",
       "      <td>11.922470</td>\n",
       "    </tr>\n",
       "    <tr>\n",
       "      <th>2418570</th>\n",
       "      <td>9011_606803_804</td>\n",
       "      <td>165.704475</td>\n",
       "      <td>56.477614</td>\n",
       "      <td>NaN</td>\n",
       "      <td>20.383986</td>\n",
       "      <td>19.796894</td>\n",
       "      <td>19.892883</td>\n",
       "      <td>20.136581</td>\n",
       "    </tr>\n",
       "    <tr>\n",
       "      <th>2418571</th>\n",
       "      <td>9011_602737_2527</td>\n",
       "      <td>162.350176</td>\n",
       "      <td>55.280935</td>\n",
       "      <td>NaN</td>\n",
       "      <td>11.567264</td>\n",
       "      <td>13.174446</td>\n",
       "      <td>10.263829</td>\n",
       "      <td>10.691053</td>\n",
       "    </tr>\n",
       "    <tr>\n",
       "      <th>2418572</th>\n",
       "      <td>9011_605989_2125</td>\n",
       "      <td>160.095394</td>\n",
       "      <td>56.140614</td>\n",
       "      <td>NaN</td>\n",
       "      <td>10.741294</td>\n",
       "      <td>11.897931</td>\n",
       "      <td>11.090126</td>\n",
       "      <td>11.727248</td>\n",
       "    </tr>\n",
       "    <tr>\n",
       "      <th>2418573</th>\n",
       "      <td>9011_617462_2294</td>\n",
       "      <td>164.380714</td>\n",
       "      <td>60.110552</td>\n",
       "      <td>NaN</td>\n",
       "      <td>11.510583</td>\n",
       "      <td>14.800447</td>\n",
       "      <td>10.829123</td>\n",
       "      <td>11.449746</td>\n",
       "    </tr>\n",
       "  </tbody>\n",
       "</table>\n",
       "<p>2418574 rows × 8 columns</p>\n",
       "</div>"
      ],
      "text/plain": [
       "                  desi_id          ra        dec     mag_g      mag_r  \\\n",
       "0        9011_606802_2605  165.460954  56.382573  2.915254   2.087654   \n",
       "1        9011_605177_2992  157.655218  55.980398  4.877345   4.564330   \n",
       "2        9011_608375_2337  158.790917  57.082795  5.150754   5.013778   \n",
       "3        9011_609165_2169  160.930717  57.198968  5.623667   5.891215   \n",
       "4        9011_615262_2652  162.848613  59.319899  5.885894   5.040292   \n",
       "...                   ...         ...        ...       ...        ...   \n",
       "2418569  9011_605995_1099  162.677475  56.208173       NaN  12.384571   \n",
       "2418570   9011_606803_804  165.704475  56.477614       NaN  20.383986   \n",
       "2418571  9011_602737_2527  162.350176  55.280935       NaN  11.567264   \n",
       "2418572  9011_605989_2125  160.095394  56.140614       NaN  10.741294   \n",
       "2418573  9011_617462_2294  164.380714  60.110552       NaN  11.510583   \n",
       "\n",
       "             mag_z     mag_w1     mag_w2  \n",
       "0         1.722280   5.013193   5.196579  \n",
       "1         4.505185   6.241055   6.745312  \n",
       "2         5.079414   6.963816   7.265361  \n",
       "3         6.298098   8.569067   9.066921  \n",
       "4         4.663559   5.754431   6.882899  \n",
       "...            ...        ...        ...  \n",
       "2418569  12.580270  11.265625  11.922470  \n",
       "2418570  19.796894  19.892883  20.136581  \n",
       "2418571  13.174446  10.263829  10.691053  \n",
       "2418572  11.897931  11.090126  11.727248  \n",
       "2418573  14.800447  10.829123  11.449746  \n",
       "\n",
       "[2418574 rows x 8 columns]"
      ]
     },
     "execution_count": 32,
     "metadata": {},
     "output_type": "execute_result"
    }
   ],
   "source": [
    "desi_cat_orig = pd.read_pickle(data_path+'desi_lh.gz_pkl', compression='gzip')\n",
    "print(len(desi_cat_orig), 'original objects')\n",
    "\n",
    "\n",
    "#from 1_csc-desi-photo-prior/0_train0catalogs.ipynb\n",
    "#desi_cat = desi_cat_orig.query('brick_primary == True')\n",
    "desi_cat = desi_cat_orig.copy()\n",
    "desi_cat = desi_cat.sort_values(by=['flux_g'], ascending=[False])\n",
    "#print(len(desi_cat), 'after brick_primary == True filter')\n",
    "#step 2: remove duplicates in ['ra_csc', 'dec_csc', 'ra', 'dec'] and keep the one with the highest flux_g \n",
    "desi_cat = desi_cat.drop_duplicates(subset=['ra', 'dec'], keep='first')\n",
    "print(len(desi_cat), 'after removing duplicates')\n",
    "\n",
    "\n",
    "\n",
    "tm_desi_id=desi_cat['release'].astype(str)+'_'+desi_cat['brickid'].astype(str)+'_'+desi_cat['objid'].astype(str)\n",
    "desi_cat['desi_id'] = tm_desi_id\n",
    "\n",
    "\n",
    "columns_to_retain = ['desi_id', 'ra', 'dec', 'dered_mag_g', 'dered_mag_r', 'dered_mag_z', 'dered_mag_w1', 'dered_mag_w2'] \n",
    "desi_cat = desi_cat[columns_to_retain]\n",
    "\n",
    "\n",
    "#TODO mag_g -> dered_mag_g\n",
    "desi_cat.rename(columns={'dered_mag_g':'mag_g', 'dered_mag_r': 'mag_r', 'dered_mag_z': 'mag_z', 'dered_mag_w1': 'mag_w1', 'dered_mag_w2': 'mag_w2'}, inplace=True) \n",
    "\n",
    "desi_cat.reset_index(inplace=True, drop = True)\n",
    "desi_cat"
   ]
  },
  {
   "cell_type": "markdown",
   "metadata": {},
   "source": [
    "Add color columns to the catalog"
   ]
  },
  {
   "cell_type": "code",
   "execution_count": 33,
   "metadata": {},
   "outputs": [
    {
     "name": "stdout",
     "output_type": "stream",
     "text": [
      "Index(['desi_id', 'ra', 'dec', 'mag_g', 'mag_r', 'mag_z', 'mag_w1', 'mag_w2',\n",
      "       'col_gr', 'col_rz', 'col_zw1', 'col_rw2'],\n",
      "      dtype='object')\n",
      "check the order of columns, they should coincide with the order of columns used for training model\n"
     ]
    }
   ],
   "source": [
    "desi_cat['col_gr'] = desi_cat['mag_g'] - desi_cat['mag_r']\n",
    "desi_cat['col_rz'] = desi_cat['mag_r'] - desi_cat['mag_z']\n",
    "desi_cat['col_zw1'] = desi_cat['mag_z'] - desi_cat['mag_w1']\n",
    "desi_cat['col_rw2'] = desi_cat['mag_r'] - desi_cat['mag_w2']\n",
    "desi_cat = desi_cat.replace([np.inf, -np.inf], np.nan)\n",
    "print(desi_cat.columns)\n",
    "print('check the order of columns, they should coincide with the order of columns used for training model')"
   ]
  },
  {
   "cell_type": "code",
   "execution_count": 34,
   "metadata": {},
   "outputs": [],
   "source": [
    "desi_cat_scaled = my_scaler_forward(desi_cat)"
   ]
  },
  {
   "cell_type": "code",
   "execution_count": 35,
   "metadata": {},
   "outputs": [
    {
     "data": {
      "text/plain": [
       "desi_id         0\n",
       "ra              0\n",
       "dec             0\n",
       "mag_g       48927\n",
       "mag_r       12784\n",
       "mag_z       16129\n",
       "mag_w1     296366\n",
       "mag_w2     583125\n",
       "col_gr      56467\n",
       "col_rz      27894\n",
       "col_zw1    303279\n",
       "col_rw2    591874\n",
       "dtype: int64"
      ]
     },
     "execution_count": 35,
     "metadata": {},
     "output_type": "execute_result"
    }
   ],
   "source": [
    "desi_cat_scaled.isna().sum()"
   ]
  },
  {
   "cell_type": "code",
   "execution_count": 36,
   "metadata": {},
   "outputs": [
    {
     "name": "stdout",
     "output_type": "stream",
     "text": [
      "2418574\n",
      "1684838\n"
     ]
    }
   ],
   "source": [
    "print(len(desi_cat_scaled))\n",
    "print(len(desi_cat_scaled.dropna(how = 'any')))"
   ]
  },
  {
   "cell_type": "markdown",
   "metadata": {},
   "source": [
    "load prior model, scale the dataframe and assign a column prior_probability"
   ]
  },
  {
   "cell_type": "code",
   "execution_count": 37,
   "metadata": {},
   "outputs": [],
   "source": [
    "from joblib import load\n",
    "nn = load('../1_csc-desi-photo-prior/model/nn.joblib')"
   ]
  },
  {
   "cell_type": "code",
   "execution_count": 38,
   "metadata": {},
   "outputs": [],
   "source": [
    "features_cols = ['mag_g','mag_r','mag_z','mag_w1','mag_w2','col_gr','col_rz','col_zw1','col_rw2']"
   ]
  },
  {
   "cell_type": "code",
   "execution_count": 39,
   "metadata": {},
   "outputs": [
    {
     "data": {
      "text/html": [
       "<div>\n",
       "<style scoped>\n",
       "    .dataframe tbody tr th:only-of-type {\n",
       "        vertical-align: middle;\n",
       "    }\n",
       "\n",
       "    .dataframe tbody tr th {\n",
       "        vertical-align: top;\n",
       "    }\n",
       "\n",
       "    .dataframe thead th {\n",
       "        text-align: right;\n",
       "    }\n",
       "</style>\n",
       "<table border=\"1\" class=\"dataframe\">\n",
       "  <thead>\n",
       "    <tr style=\"text-align: right;\">\n",
       "      <th></th>\n",
       "      <th>ra</th>\n",
       "      <th>dec</th>\n",
       "      <th>mag_g</th>\n",
       "      <th>mag_r</th>\n",
       "      <th>mag_z</th>\n",
       "      <th>mag_w1</th>\n",
       "      <th>mag_w2</th>\n",
       "      <th>col_gr</th>\n",
       "      <th>col_rz</th>\n",
       "      <th>col_zw1</th>\n",
       "      <th>col_rw2</th>\n",
       "    </tr>\n",
       "  </thead>\n",
       "  <tbody>\n",
       "    <tr>\n",
       "      <th>mean</th>\n",
       "      <td>160.95648</td>\n",
       "      <td>57.729127</td>\n",
       "      <td>0.668905</td>\n",
       "      <td>0.642801</td>\n",
       "      <td>0.617421</td>\n",
       "      <td>0.595146</td>\n",
       "      <td>0.60522</td>\n",
       "      <td>0.091365</td>\n",
       "      <td>0.088831</td>\n",
       "      <td>0.07796</td>\n",
       "      <td>0.131534</td>\n",
       "    </tr>\n",
       "  </tbody>\n",
       "</table>\n",
       "</div>"
      ],
      "text/plain": [
       "             ra        dec     mag_g     mag_r     mag_z    mag_w1   mag_w2  \\\n",
       "mean  160.95648  57.729127  0.668905  0.642801  0.617421  0.595146  0.60522   \n",
       "\n",
       "        col_gr    col_rz  col_zw1   col_rw2  \n",
       "mean  0.091365  0.088831  0.07796  0.131534  "
      ]
     },
     "execution_count": 39,
     "metadata": {},
     "output_type": "execute_result"
    }
   ],
   "source": [
    "desi_cat_scaled_nadropped= desi_cat_scaled.dropna(subset = features_cols, how = 'any')\n",
    "df_of_mean = pd.DataFrame(desi_cat_scaled_nadropped.describe().loc['mean']).T\n",
    "df_of_mean\n"
   ]
  },
  {
   "cell_type": "code",
   "execution_count": 40,
   "metadata": {},
   "outputs": [
    {
     "data": {
      "text/plain": [
       "desi_id    0\n",
       "ra         0\n",
       "dec        0\n",
       "mag_g      0\n",
       "mag_r      0\n",
       "mag_z      0\n",
       "mag_w1     0\n",
       "mag_w2     0\n",
       "col_gr     0\n",
       "col_rz     0\n",
       "col_zw1    0\n",
       "col_rw2    0\n",
       "dtype: int64"
      ]
     },
     "execution_count": 40,
     "metadata": {},
     "output_type": "execute_result"
    }
   ],
   "source": [
    "desi_cat_orig_scaled_imputed = desi_cat_scaled.copy()\n",
    "\n",
    "for col in features_cols:\n",
    "    mean_val = df_of_mean[col].values[0]\n",
    "    desi_cat_orig_scaled_imputed[col] = desi_cat_orig_scaled_imputed[col].fillna(mean_val)\n",
    "desi_cat_orig_scaled_imputed.isna().sum()\n"
   ]
  },
  {
   "cell_type": "code",
   "execution_count": 41,
   "metadata": {},
   "outputs": [
    {
     "name": "stderr",
     "output_type": "stream",
     "text": [
      "/Users/sdbykov/opt/miniconda3/envs/venv_hea/lib/python3.10/site-packages/sklearn/base.py:443: UserWarning: X has feature names, but MLPClassifier was fitted without feature names\n",
      "  warnings.warn(\n"
     ]
    }
   ],
   "source": [
    "tmp_predict_features = desi_cat_orig_scaled_imputed[features_cols]\n",
    "\n",
    "predict_proba = nn.predict_proba(tmp_predict_features)[:, 1]\n",
    "\n",
    "desi_cat['nnprior'] = predict_proba"
   ]
  },
  {
   "cell_type": "markdown",
   "metadata": {},
   "source": [
    "## area and plotting"
   ]
  },
  {
   "cell_type": "code",
   "execution_count": 48,
   "metadata": {},
   "outputs": [
    {
     "name": "stdout",
     "output_type": "stream",
     "text": [
      "Resolution of the HEALPix map:\n",
      "0.05725810686362343 deg per pixel, or\n",
      "3.435486411817406 arcmin per pixel, or\n",
      "206.12918470904435 arcsec per pixel\n"
     ]
    }
   ],
   "source": [
    "desi_hp_map = cat2hpx(desi_cat['ra'], desi_cat['dec'], nside=1024, radec=True)"
   ]
  },
  {
   "cell_type": "code",
   "execution_count": 50,
   "metadata": {},
   "outputs": [
    {
     "name": "stdout",
     "output_type": "stream",
     "text": [
      "41.728630922842704 sq. deg.\n",
      "DESI sky density: 301541.4529958129 per sq deg\n",
      "DESI sky density: 83.76151472105914 per sq. arcmin\n",
      "DESI sky density: 0.02326708742251643 per sq. arcsec\n",
      " number of DESI sources within 5 arcsec radius 1.8273927729252275\n",
      " number of DESI sources within 10 arcsec radius 7.30957109170091\n"
     ]
    },
    {
     "data": {
      "image/png": "[encoded data removed]",
      "text/plain": [
       "<Figure size 417.6x460.8 with 2 Axes>"
      ]
     },
     "metadata": {
      "needs_background": "light"
     },
     "output_type": "display_data"
    }
   ],
   "source": [
    "%matplotlib inline\n",
    "hp.gnomview(desi_hp_map, rot = [150.23,52.19], xsize = 400)\n",
    "\n",
    "DESI_SKYAREA = 4*np.pi*(np.rad2deg(1))**2 * np.sum(desi_hp_map>=1)/len(desi_hp_map)\n",
    "print(DESI_SKYAREA, 'sq. deg.')\n",
    "\n",
    "desi_sky_dens = len(desi_hp_map)/DESI_SKYAREA\n",
    "print('DESI sky density:', desi_sky_dens, 'per sq deg')\n",
    "print('DESI sky density:', desi_sky_dens/(3600), 'per sq. arcmin')\n",
    "print('DESI sky density:', desi_sky_dens/(3600**2), 'per sq. arcsec')\n",
    "print(' number of DESI sources within 5 arcsec radius', np.pi*5**2 * desi_sky_dens/(3600**2))\n",
    "print(' number of DESI sources within 10 arcsec radius', np.pi*10**2 * desi_sky_dens/(3600**2))\n",
    "\n"
   ]
  },
  {
   "cell_type": "code",
   "execution_count": 57,
   "metadata": {},
   "outputs": [],
   "source": [
    "pandas_to_fits(dataframe = desi_cat, \n",
    "                filename = 'desi_lh.fits',\n",
    "                table_header_name = 'DESI',\n",
    "                sky_area_deg2 = DESI_SKYAREA)"
   ]
  }
 ],
 "metadata": {
  "kernelspec": {
   "display_name": "Python 3.10.4 ('venv_hea')",
   "language": "python",
   "name": "python3"
  },
  "language_info": {
   "codemirror_mode": {
    "name": "ipython",
    "version": 3
   },
   "file_extension": ".py",
   "mimetype": "text/x-python",
   "name": "python",
   "nbconvert_exporter": "python",
   "pygments_lexer": "ipython3",
   "version": "3.10.4"
  },
  "orig_nbformat": 4,
  "vscode": {
   "interpreter": {
    "hash": "e1dc9197fbdaf2df20a0ea77561d79844f791293e1aa1b8fac12d88bf49496cb"
   }
  }
 },
 "nbformat": 4,
 "nbformat_minor": 2
}
